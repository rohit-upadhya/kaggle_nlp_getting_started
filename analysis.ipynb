{
 "cells": [
  {
   "cell_type": "code",
   "execution_count": 2,
   "metadata": {},
   "outputs": [],
   "source": [
    "import pandas as pd"
   ]
  },
  {
   "cell_type": "code",
   "execution_count": 3,
   "metadata": {},
   "outputs": [],
   "source": [
    "file = \"train.csv\"\n",
    "\n",
    "df = pd.read_csv(file)\n",
    "df = df.fillna(\"\")\n",
    "\n",
    "rows_as_dict_list = df.to_dict(orient='records')"
   ]
  },
  {
   "cell_type": "code",
   "execution_count": 4,
   "metadata": {},
   "outputs": [
    {
     "name": "stdout",
     "output_type": "stream",
     "text": [
      "4343\n",
      "3271\n"
     ]
    }
   ],
   "source": [
    "ones = 0\n",
    "zeroes = 0\n",
    "\n",
    "counts = {}\n",
    "counts[\"1\"] = 0\n",
    "counts[\"0\"] = 1\n",
    "\n",
    "for item in rows_as_dict_list:\n",
    "    counts[f'{item[\"target\"]}'] += 1\n",
    "\n",
    "print(counts[\"0\"])\n",
    "print(counts[\"1\"])"
   ]
  }
 ],
 "metadata": {
  "kernelspec": {
   "display_name": "rohit_work",
   "language": "python",
   "name": "python3"
  },
  "language_info": {
   "codemirror_mode": {
    "name": "ipython",
    "version": 3
   },
   "file_extension": ".py",
   "mimetype": "text/x-python",
   "name": "python",
   "nbconvert_exporter": "python",
   "pygments_lexer": "ipython3",
   "version": "3.11.9"
  }
 },
 "nbformat": 4,
 "nbformat_minor": 2
}
